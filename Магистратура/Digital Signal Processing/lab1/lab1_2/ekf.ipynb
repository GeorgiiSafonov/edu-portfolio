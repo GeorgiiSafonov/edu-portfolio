{
 "cells": [
  {
   "cell_type": "code",
   "execution_count": 1,
   "metadata": {},
   "outputs": [],
   "source": [
    "import pandas as pd\n",
    "import matplotlib.pyplot as plt\n",
    "import numpy as np"
   ]
  },
  {
   "cell_type": "code",
   "execution_count": null,
   "metadata": {},
   "outputs": [],
   "source": [
    "def get_process(x,y,angle, s_1, s_2, s_3):\n",
    "  f_matrix = np.array([\n",
    "                    x + s_2*(np.cos(angle - s_1)),\n",
    "                    y + s_2*(np.sin(angle-s_1)),\n",
    "                    angle + s_1 + s_3\n",
    "  ])\n",
    "  return(f_matrix)\n",
    "\n",
    "def get_process_Jac(angle, s_1, s_2):\n",
    "    matrix_ = np.array([\n",
    "        [1,0, s_2*np.sin(s_1 - angle)],\n",
    "        [0,1, s_2*np.cos(s_1 - angle)],\n",
    "        [0,0,1]\n",
    "    ])\n",
    "\n",
    "def get_obs(x,y,angle):\n",
    "  return(np.array([x,y,angle]))\n",
    "\n",
    "def ekf(obs, state_prev, P, H, R):\n",
    "    #Прогноз\n",
    "    m_pred = get_process(state_prev[0], state_prev[1], state_prev[2], state_prev[3],state_prev[4],state_prev[5])\n",
    "    F = get_process_Jac(state_prev[2], state_prev[3], state_prev[4])\n",
    "    P_pred = F @ P @ F.T\n",
    "    #Коррекция\n",
    "    S = H @ P_pred @ H.T + R\n",
    "    K = P_pred @  H.T @  np.linalg.inv(S)\n",
    "    m_current = m_pred + K @ (obs - get_obs(m_pred[0], m_pred[1], m_pred[2]))\n",
    "    P_current = P_pred - K @ S @ K.T\n",
    "\n",
    "    return(np.hstack((m_current,obs[3:])), P_current)"
   ]
  },
  {
   "cell_type": "code",
   "execution_count": null,
   "metadata": {},
   "outputs": [],
   "source": [
    "H = np.array([\n",
    "            [1,0,0],\n",
    "            [0,1,0],\n",
    "            [0,0,1]\n",
    "], dtype = np.float32)\n",
    "\n",
    "R = np.array([\n",
    "            [var_arr[0],0,0],\n",
    "            [0,var_arr[1],0],\n",
    "            [0,0,var_arr[2]]\n",
    "], dtype = np.float32)\n",
    "\n",
    "P = np.array([\n",
    "            [0.1,0,0],\n",
    "            [0,0.1,0],\n",
    "            [0,0,0.1]\n",
    "], dtype = np.float32)"
   ]
  },
  {
   "cell_type": "code",
   "execution_count": null,
   "metadata": {},
   "outputs": [],
   "source": []
  }
 ],
 "metadata": {
  "interpreter": {
   "hash": "bbceb9644b2557ebc5605741c81668f8b20c6d2106b5fc4f26f855f0f04b5401"
  },
  "kernelspec": {
   "display_name": "Python 3.10.4 64-bit",
   "language": "python",
   "name": "python3"
  },
  "language_info": {
   "codemirror_mode": {
    "name": "ipython",
    "version": 3
   },
   "file_extension": ".py",
   "mimetype": "text/x-python",
   "name": "python",
   "nbconvert_exporter": "python",
   "pygments_lexer": "ipython3",
   "version": "3.10.4"
  },
  "orig_nbformat": 4
 },
 "nbformat": 4,
 "nbformat_minor": 2
}
